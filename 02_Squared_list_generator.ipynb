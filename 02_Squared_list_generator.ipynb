{
 "cells": [
  {
   "cell_type": "markdown",
   "id": "15306062",
   "metadata": {},
   "source": [
    "# List of squared numbers"
   ]
  },
  {
   "cell_type": "code",
   "execution_count": 49,
   "id": "bf5fa12e",
   "metadata": {},
   "outputs": [
    {
     "name": "stdout",
     "output_type": "stream",
     "text": [
      "Point numbers separated by comma (',')1, -1, 456, 21, 9\n",
      "Square of your numbers are: [1, 1, 207936, 441, 81]\n"
     ]
    }
   ],
   "source": [
    "nums = input('Point numbers separated by comma (\\',\\')')\n",
    "num_list = nums.split(',')\n",
    "\n",
    "nums_squared = []\n",
    "\n",
    "for num in num_list:\n",
    "    num = int(num.strip())\n",
    "    nums_squared.append(num ** 2)\n",
    "print(f'Square of your numbers are: {nums_squared}')"
   ]
  }
 ],
 "metadata": {
  "kernelspec": {
   "display_name": "Python 3 (ipykernel)",
   "language": "python",
   "name": "python3"
  },
  "language_info": {
   "codemirror_mode": {
    "name": "ipython",
    "version": 3
   },
   "file_extension": ".py",
   "mimetype": "text/x-python",
   "name": "python",
   "nbconvert_exporter": "python",
   "pygments_lexer": "ipython3",
   "version": "3.11.5"
  }
 },
 "nbformat": 4,
 "nbformat_minor": 5
}
