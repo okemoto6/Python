{
 "cells": [
  {
   "cell_type": "markdown",
   "id": "a6731afb",
   "metadata": {},
   "source": [
    "# Guessing integer"
   ]
  },
  {
   "cell_type": "code",
   "execution_count": 1,
   "id": "bda2009b",
   "metadata": {},
   "outputs": [
    {
     "name": "stdout",
     "output_type": "stream",
     "text": [
      "Choose a range! You'll be guessing an integer from 0 to: 10\n",
      "Guess an integer from 0 to 10\n",
      "Point a number: 2\n",
      "\n",
      "Your number is too small, try again!\n",
      "\n",
      "Point a number: 6\n",
      "\n",
      "Your number is too big, try again!\n",
      "\n",
      "Point a number: 4\n",
      "\n",
      "Your number is too small, try again!\n",
      "\n",
      "Point a number: 5\n",
      "\n",
      "Bravo! Searched number is 5 and you guessed on 4 tries!\n",
      "\n"
     ]
    }
   ],
   "source": [
    "import random\n",
    "\n",
    "num = 0\n",
    "i = 1\n",
    "r = int(input('Choose a range! You\\'ll be guessing an integer from 0 to: '))\n",
    "x = random.randint(0, r)\n",
    "\n",
    "def try_check(i):\n",
    "    if i == 1:\n",
    "        return 'try'\n",
    "    else: \n",
    "        return 'tries'\n",
    "\n",
    "print(f'Guess an integer from 0 to {r}')\n",
    "while num != x:\n",
    "    num = int(input('Point a number: '))\n",
    "    if num > r or num < 0:\n",
    "        print('\\nYour number is out of range, try again\\n')\n",
    "    else:\n",
    "        if num == x:\n",
    "            #print(f'\\nBravo! You guessed on {i} {case: print('try!') for i = 1 else print('tries! ')} \\n')\n",
    "            print(f'\\nBravo! Searched number is {x} and you guessed on {i} {try_check(i)}!\\n')\n",
    "        elif num > x:\n",
    "            print('\\nYour number is too big, try again!\\n')\n",
    "        elif num < x:\n",
    "            print('\\nYour number is too small, try again!\\n')\n",
    "    i += 1"
   ]
  }
 ],
 "metadata": {
  "kernelspec": {
   "display_name": "Python 3 (ipykernel)",
   "language": "python",
   "name": "python3"
  },
  "language_info": {
   "codemirror_mode": {
    "name": "ipython",
    "version": 3
   },
   "file_extension": ".py",
   "mimetype": "text/x-python",
   "name": "python",
   "nbconvert_exporter": "python",
   "pygments_lexer": "ipython3",
   "version": "3.11.5"
  }
 },
 "nbformat": 4,
 "nbformat_minor": 5
}
